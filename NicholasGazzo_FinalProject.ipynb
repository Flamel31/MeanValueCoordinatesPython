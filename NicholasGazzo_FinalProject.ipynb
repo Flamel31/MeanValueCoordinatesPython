{
 "cells": [
  {
   "cell_type": "markdown",
   "id": "efc7c843",
   "metadata": {},
   "source": [
    "# GM 2021/22 \n",
    "# Final Project - Shape deformation with cages\n",
    "## Nicholas Gazzo, 4498892\n",
    "\n",
    "The notebook takes in input two meshes: a model *M* and a coarse mesh *C* containing *M* in its interior, namely the cage, and support the following operations:\n",
    "- Computation of *cage coordinates* for all vertices of *M* wrt *C* (see below); \n",
    "- Rendering of the two meshes superimposed in the same canvas, *M* in solid and *C* in wire frame;\n",
    "- Selection of vertices of *C* and displacement of such vertices in 3D space. The position of vertices of *M* must be recomputed by means of cage coordinates after each displacement of the control structure and the two meshes must be rendered accordingly. \n",
    "\n",
    "The notebook implements the algorithm Mean Value Algorithm for the computation of the *cage coordinates*, which is described in the following paper [Ju et al. 2005](https://www.cse.wustl.edu/~taoju/research/meanvalue.pdf) (look at Fig.4). The algorithm is executed for each vertex *x* of *M* and provides its edge coordinates wrt all vertices of *C*."
   ]
  },
  {
   "cell_type": "code",
   "execution_count": 1,
   "id": "218ae2f0",
   "metadata": {},
   "outputs": [],
   "source": [
    "import numpy as np\n",
    "import igl\n",
    "import meshplot as mp\n",
    "import ipywidgets as iw\n",
    "import timeit\n",
    "\n",
    "from scipy.spatial.transform import Rotation\n",
    "from functools import partial"
   ]
  },
  {
   "cell_type": "markdown",
   "id": "a820ac6d",
   "metadata": {},
   "source": [
    "# Input data\n",
    "\n",
    "Firstly we need to read both the character model M and the related cage model C. "
   ]
  },
  {
   "cell_type": "code",
   "execution_count": 8,
   "id": "e4a8fa5b",
   "metadata": {},
   "outputs": [],
   "source": [
    "# Read Character\n",
    "v, f = igl.read_triangle_mesh('data/deer.obj')\n",
    "# Read Cage\n",
    "cage_v,cage_f = igl.read_triangle_mesh('data/deer_cage.obj')\n",
    "cage_e = igl.edges(cage_f)\n",
    "# Read Sphere\n",
    "with np.load('data/octa_sphere_5.npz') as npl:\n",
    "    sphere_v, sphere_f = npl['v'], npl['f']\n",
    "\n",
    "# Min and Max on cage\n",
    "min_v = cage_v.min(axis=0)\n",
    "max_v = cage_v.max()\n",
    "cage_v -= min_v\n",
    "cage_v /= max_v\n",
    "v -= min_v\n",
    "v /= max_v\n",
    "center_v = cage_v.max(axis=0)[[0,2]] / 2\n",
    "cage_v[:,[0,2]] -= center_v\n",
    "v[:,[0,2]] -= center_v\n",
    "\n",
    "# Copy used later to reset the transformation\n",
    "old_cage = cage_v.copy()"
   ]
  },
  {
   "cell_type": "markdown",
   "id": "fd237e7e",
   "metadata": {},
   "source": [
    "Here we have the rendering of the two meshes superimposed in the same canvas, M in solid and C in wire frame."
   ]
  },
  {
   "cell_type": "code",
   "execution_count": 9,
   "id": "a193fac9",
   "metadata": {
    "scrolled": false
   },
   "outputs": [
    {
     "data": {
      "application/vnd.jupyter.widget-view+json": {
       "model_id": "269eff2a159c4311a71a28bf022fbf4c",
       "version_major": 2,
       "version_minor": 0
      },
      "text/plain": [
       "Renderer(camera=PerspectiveCamera(children=(DirectionalLight(color='white', intensity=0.6, position=(0.0065747…"
      ]
     },
     "metadata": {},
     "output_type": "display_data"
    }
   ],
   "source": [
    "# Plot Character\n",
    "plot = mp.plot(v,f)\n",
    "# Plot cage\n",
    "plot_cage_points = plot.add_points(cage_v,shading={\"point_color\": \"green\",\"point_size\":.2})\n",
    "plot_cage_edges = plot.add_edges(cage_v,cage_e,shading={\"line_color\": \"gray\"})"
   ]
  },
  {
   "cell_type": "markdown",
   "id": "e7a5aecd",
   "metadata": {},
   "source": [
    "# Weights Evaluation\n",
    "\n",
    "The *generateWeight*s function also print a recap of the dimensionality of both the character model M and the cage model C, while also providing the time elapsed during the execution of the function."
   ]
  },
  {
   "cell_type": "code",
   "execution_count": 4,
   "id": "855127f2",
   "metadata": {},
   "outputs": [],
   "source": [
    "def generateWeights(v,f,cage_v,cage_f,eps = 1e-11):\n",
    "    print(\"Character Vertices: \",v.shape[0])\n",
    "    print(\"Cage Vertices: \",cage_v.shape[0])\n",
    "    start = timeit.default_timer()\n",
    "    # Weights (Matrix #V x #Cage_V)\n",
    "    weights = np.zeros((v.shape[0],cage_v.shape[0]),dtype=np.float32)\n",
    "    # For each vertex vi of the character model M\n",
    "    for i,vi in enumerate(v):\n",
    "        # Distances from each vertex of the cage\n",
    "        di = np.linalg.norm(cage_v-vi,axis=1)\n",
    "        ui = (cage_v-vi)/np.row_stack(di)\n",
    "        # For each face of the cage model C\n",
    "        for fj in cage_f:\n",
    "            if np.any(di[fj]) < eps:\n",
    "                break\n",
    "            lj = np.array([np.linalg.norm(ui[fj[k-1]]-ui[fj[(k+1)%3]]) for k in range(3)])\n",
    "            thetaj = 2*np.arcsin(lj/2)\n",
    "            h = np.sum(thetaj)/2\n",
    "            if(np.pi-h < eps):\n",
    "                # vi lies on t, use 2D barycentric coordinates\n",
    "                weights[i][fj] = np.array([np.sin(thetaj[k])*di[fj[k-1]]*di[fj[(k+1)%3]] for k in range(3)])\n",
    "                break\n",
    "            cj = np.array([(2*np.sin(h)*np.sin(h-thetaj[k]))/(np.sin(thetaj[(k+1)%3])*np.sin(thetaj[k-1]))-1 for k in range(3)])\n",
    "            det = np.linalg.det(ui[fj])\n",
    "            sj = np.sign(det)*np.sqrt(np.abs(1-(cj**2)))\n",
    "            if np.any(np.abs(sj) < eps):\n",
    "                # Vi lies outside t on the same plane, ignore t\n",
    "                continue\n",
    "            weights[i][fj] += np.array([(thetaj[k]-cj[(k+1)%3]*thetaj[k-1]-cj[k-1]*thetaj[(k+1)%3])/(di[fj[k]]*np.sin(thetaj[(k+1)%3])*sj[k-1]) for k in range(3)])\n",
    "    # Divide by sum of weights for each row\n",
    "    weights /= np.row_stack(np.sum(weights,axis=1))\n",
    "    stop = timeit.default_timer()\n",
    "    print('Execution Time: %.2f sec.'%(stop - start))\n",
    "    return weights\n",
    "\n",
    "def deform(v,f,cage_v,cage_f,weights):\n",
    "    for i in range(v.shape[0]):\n",
    "        if np.sum(weights[i,:]) > 0:\n",
    "            v[i] = np.dot(weights[i,:],cage_v)\n",
    "    return v"
   ]
  },
  {
   "cell_type": "code",
   "execution_count": 5,
   "id": "24a3cb3f",
   "metadata": {},
   "outputs": [
    {
     "name": "stdout",
     "output_type": "stream",
     "text": [
      "Character Vertices:  1130\n",
      "Cage Vertices:  48\n"
     ]
    },
    {
     "name": "stderr",
     "output_type": "stream",
     "text": [
      "D:\\Programmi\\Anaconda\\lib\\site-packages\\ipykernel_launcher.py:23: RuntimeWarning: invalid value encountered in double_scalars\n"
     ]
    },
    {
     "name": "stdout",
     "output_type": "stream",
     "text": [
      "Execution Time: 16.21 sec.\n",
      "Weights Matrix shape:  (1130, 48)\n"
     ]
    }
   ],
   "source": [
    "weights = generateWeights(v,f,cage_v,cage_f)\n",
    "\n",
    "print(\"Weights Matrix shape: \",weights.shape)"
   ]
  },
  {
   "cell_type": "markdown",
   "id": "4c7efe50",
   "metadata": {},
   "source": [
    "# Interactive Tool"
   ]
  },
  {
   "cell_type": "markdown",
   "id": "8e22795d",
   "metadata": {},
   "source": [
    "It seems that the meshplot library is not able to update points and lines added with the functions *add_points* and *add_edges* (which I'm using in order to draw the cage). So in order to solve this I implemented some functions to update the attributes of objects of this type. These functions simply replace the attributes stored inside the **__objects** array, while also providing a notification to the renderer that these objects need to be updated visually.\n",
    "\n",
    "To support interaction I adapted the jupyter notebook provided as resource in the description ([Selection.ipynb](https://github.com/danielepanozzo/gp/blob/master/Assignment_5/Selection.ipynb))."
   ]
  },
  {
   "cell_type": "code",
   "execution_count": 6,
   "id": "4f011de6",
   "metadata": {},
   "outputs": [],
   "source": [
    "def update_points(viewer,oid,vertices=None,colors=None,colormap='viridis'):\n",
    "    if type(vertices) != type(None):\n",
    "        viewer._Viewer__objects[oid][\"geometry\"].attributes[\"position\"].array = vertices\n",
    "        viewer._Viewer__objects[oid][\"geometry\"].attributes[\"position\"].needsUpdate = True\n",
    "    if type(colors) != type(None):\n",
    "        c = mp.utils.get_colors(colors, colormap, normalize=False).astype(\"float32\")\n",
    "        viewer._Viewer__objects[oid][\"geometry\"].attributes[\"color\"].array = c\n",
    "        viewer._Viewer__objects[oid][\"geometry\"].attributes[\"color\"].needsUpdate = True\n",
    "        \n",
    "def update_edges(viewer,oid,vertices=None):\n",
    "    if type(vertices) != type(None):\n",
    "        viewer._Viewer__objects[oid][\"geometry\"].attributes[\"position\"].array = vertices\n",
    "        viewer._Viewer__objects[oid][\"geometry\"].attributes[\"position\"].needsUpdate = True"
   ]
  },
  {
   "cell_type": "markdown",
   "id": "72c1eaf7",
   "metadata": {},
   "source": [
    "To select either a single vertex or a group of vertices of cage *C* the user firstly need to move the sphere mesh, using the three sliders controls, and then to press the *Select* button, which will select all the vertices inside the ball.\n",
    "The selected vertices will be highlighted with a different color (green for unselected vertices and red for selected vertices). It also possible to deselect all the currently selected vertices by pressing the *Clear Selection* button.\n",
    "\n",
    "After selecting the vertices it is possible interact with them by shifting their position (by a chosen amount) using the related *+* and *-* buttons. The notebook will automaticaly update both the cage position and the character (by calculating the deformation). Lastly to reset the current deformation press the *Reset* button, which will bring back the cage vertices to their original positions."
   ]
  },
  {
   "cell_type": "code",
   "execution_count": 7,
   "id": "f9a70284",
   "metadata": {
    "scrolled": false
   },
   "outputs": [
    {
     "data": {
      "application/vnd.jupyter.widget-view+json": {
       "model_id": "5838ea7df3a64860b688df4f39e8b2bc",
       "version_major": 2,
       "version_minor": 0
      },
      "text/plain": [
       "HBox(children=(Renderer(camera=PerspectiveCamera(children=(DirectionalLight(color='white', intensity=0.6, posi…"
      ]
     },
     "metadata": {},
     "output_type": "display_data"
    }
   ],
   "source": [
    "# Keep track of the selected vertices for the cage\n",
    "selected = np.full(cage_v.shape[0],False)\n",
    "sf = { \"coord\":[] }\n",
    "# Meshplot\n",
    "paint_ui = mp.Viewer({})\n",
    "# Plot Character\n",
    "paint_character = paint_ui.add_mesh(v,f)\n",
    "# Plot cage\n",
    "paint_cage_points = paint_ui.add_points(cage_v,c=selected,shading={\"colormap\":\"RdYlGn_r\",\"point_size\":.2})\n",
    "paint_cage_edges = paint_ui.add_edges(cage_v,cage_e,shading={\"line_color\": \"gray\"})\n",
    "# Plot sphere\n",
    "paint_sphere = paint_ui.add_mesh(sphere_v*0.05, sphere_f, shading={\"flat\" : False},c=np.array([1,0,0]))\n",
    "\n",
    "# Build the UI\n",
    "# Selection Button\n",
    "select_button = iw.Button(description=\"Select\",)\n",
    "clear_button = iw.Button(description=\"Clear Selection\")\n",
    "reset_button = iw.Button(description=\"Reset\")\n",
    "\n",
    "def select_clicked(b):\n",
    "    slicer = np.where(np.linalg.norm(cage_v - sf[\"coord\"][1:],axis=1) < sf[\"coord\"][0])[0]\n",
    "    selected[slicer] = True\n",
    "    update_points(paint_ui, paint_cage_points, colors=selected, colormap=\"RdYlGn_r\")\n",
    "    \n",
    "def clear_clicked(b):\n",
    "    selected[:] = False\n",
    "    update_points(paint_ui, paint_cage_points, colors=selected, colormap=\"RdYlGn_r\")\n",
    "    \n",
    "def reset_clicked(b):\n",
    "    cage_v[:] = old_cage.copy()\n",
    "    update_points(paint_ui, paint_cage_points, vertices=cage_v)\n",
    "    update_edges(paint_ui, paint_cage_edges, vertices=cage_v[cage_e.ravel()])\n",
    "    paint_ui.update_object(oid = paint_character, vertices=deform(v,f,cage_v,cage_f,weights))\n",
    "    \n",
    "select_button.on_click(select_clicked)\n",
    "clear_button.on_click(clear_clicked)\n",
    "reset_button.on_click(reset_clicked)\n",
    "\n",
    "buttons = iw.HBox([select_button, clear_button,reset_button])\n",
    "\n",
    "# Sphere Movement\n",
    "min_v = np.floor(cage_v.min(axis=0))\n",
    "max_v = np.ceil(cage_v.max(axis=0))\n",
    "sphere_radius = iw.FloatSlider(min=0, max=1, value=0.05, step=0.05, description=\"Radius\")\n",
    "sphere_x = iw.FloatSlider(min=min_v[0], max=max_v[0], value=0, step=0.05, description=\"Sphere x\")\n",
    "sphere_y = iw.FloatSlider(min=min_v[1], max=max_v[1], value=0, step=0.05, description=\"Sphere y\")\n",
    "sphere_z = iw.FloatSlider(min=min_v[2], max=max_v[2], value=0, step=0.05, description=\"Sphere z\")\n",
    "\n",
    "# Accordion Build\n",
    "accordion_1 = iw.Accordion(children=[iw.VBox([sphere_radius,sphere_x,sphere_y,sphere_z])])\n",
    "accordion_1.set_title(0,\"Cage Vertices Selection\")\n",
    "\n",
    "def handle_slider_change(value):\n",
    "    sf[\"coord\"] = [sphere_radius.value,sphere_x.value,sphere_y.value,sphere_z.value]\n",
    "    paint_ui.update_object(oid = paint_sphere, vertices = sphere_v*sf[\"coord\"][0] + np.array(sf[\"coord\"][1:]))\n",
    "    \n",
    "sphere_radius.observe(handle_slider_change, names='value')\n",
    "sphere_x.observe(handle_slider_change, names='value')\n",
    "sphere_y.observe(handle_slider_change, names='value')\n",
    "sphere_z.observe(handle_slider_change, names='value')\n",
    "\n",
    "# Cage Shift UI\n",
    "def plus_clicked(coord,text,b):\n",
    "    cage_v[selected,coord] += text.value\n",
    "    update_points(paint_ui, paint_cage_points, vertices=cage_v)\n",
    "    update_edges(paint_ui, paint_cage_edges, vertices=cage_v[cage_e.ravel()])\n",
    "    paint_ui.update_object(oid = paint_character, vertices=deform(v,f,cage_v,cage_f,weights))\n",
    "    \n",
    "def minus_clicked(coord,text,b):\n",
    "    cage_v[selected,coord] -= text.value\n",
    "    update_points(paint_ui, paint_cage_points, vertices=cage_v)\n",
    "    update_edges(paint_ui, paint_cage_edges, vertices=cage_v[cage_e.ravel()])\n",
    "    paint_ui.update_object(oid = paint_character, vertices=deform(v,f,cage_v,cage_f,weights))\n",
    "    \n",
    "shift_list = []\n",
    "for i,coord in enumerate([\"x\",\"y\",\"z\"]):\n",
    "    plus_button = iw.Button(icon=\"plus\")\n",
    "    coord_text = iw.FloatText(value=0.1, description=\"Shift %s\"%coord)\n",
    "    minus_button = iw.Button(icon=\"minus\")\n",
    "    plus_button.on_click(partial(plus_clicked,i,coord_text))\n",
    "    minus_button.on_click(partial(minus_clicked,i,coord_text))\n",
    "    shift_list.append(iw.HBox([coord_text, plus_button, minus_button]))\n",
    "accordion_2 = iw.Accordion(children=[iw.VBox(shift_list)])\n",
    "accordion_2.set_title(0,\"Cage Vertices Shift\")\n",
    "\n",
    "\n",
    "controller_ui = iw.VBox([buttons,accordion_1,accordion_2])\n",
    "\n",
    "display(iw.HBox([paint_ui._renderer,controller_ui]))  "
   ]
  }
 ],
 "metadata": {
  "kernelspec": {
   "display_name": "Python 3",
   "language": "python",
   "name": "python3"
  },
  "language_info": {
   "codemirror_mode": {
    "name": "ipython",
    "version": 3
   },
   "file_extension": ".py",
   "mimetype": "text/x-python",
   "name": "python",
   "nbconvert_exporter": "python",
   "pygments_lexer": "ipython3",
   "version": "3.7.12"
  }
 },
 "nbformat": 4,
 "nbformat_minor": 5
}
